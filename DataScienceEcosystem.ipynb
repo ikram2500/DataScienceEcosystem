{
 "cells": [
  {
   "cell_type": "markdown",
   "id": "279eb9e8-100c-460b-866c-8595d4bacbed",
   "metadata": {},
   "source": [
    " # Data Science Tools and Ecosystem"
   ]
  },
  {
   "cell_type": "markdown",
   "id": "dea61f52-c182-44fd-a243-34551a1694c7",
   "metadata": {},
   "source": [
    "**Objectives:** \n",
    "- Python\n",
    "- R\n",
    "- julia"
   ]
  },
  {
   "cell_type": "markdown",
   "id": "8883946b-bc5e-4d41-bc19-ba9cbca53a95",
   "metadata": {},
   "source": [
    "In this notebook, Data Science Tools and Ecosystem are summarized."
   ]
  },
  {
   "cell_type": "markdown",
   "id": "14270dd7-e786-4891-b344-224070b23076",
   "metadata": {},
   "source": [
    "`Some of the popular languages that Data Scientistis use are:`\n",
    " 1. Python\n",
    "  2. Julia\n",
    "  3. R"
   ]
  },
  {
   "cell_type": "markdown",
   "id": "83e936e7-4029-446e-a0b0-aa98dd088919",
   "metadata": {},
   "source": [
    "` Some of the commonly used libraries used by Data Scientists include: `\n",
    "- Pandas\n",
    "- Numpy\n",
    "- NLTK"
   ]
  },
  {
   "cell_type": "markdown",
   "id": "f909a142-ceb1-4f2a-add9-d843b2f0f2c7",
   "metadata": {},
   "source": [
    "` Data Science Tools `\n",
    "| Column 1 | Column 2 | Column 3 |\r\n",
    "|:--------:|:--------:|:--------:|\r\n",
    "|Visual studio 1   |PyCharm 1   |Code Editor 1   |\r\n",
    "|  Row 2   |  Row 2   |  Row 2   |\r\n",
    "|  Row 3   |  Row 3   |  Row 3   |   |"
   ]
  },
  {
   "cell_type": "markdown",
   "id": "a0411aa6-87ca-47b1-aa21-07fbdb7e4c46",
   "metadata": {},
   "source": [
    " ### Below are a few examples of evaluating arithmetic expressions in Python "
   ]
  },
  {
   "cell_type": "markdown",
   "id": "0f43af82-829f-44b0-9b87-95adcaf99dde",
   "metadata": {},
   "source": [
    "### Below are a few examples of evaluating arithmatic expressions in Python"
   ]
  },
  {
   "cell_type": "code",
   "execution_count": 1,
   "id": "892d2874-88c9-4908-9a5d-efc6daa958ba",
   "metadata": {},
   "outputs": [
    {
     "data": {
      "text/plain": [
       "17"
      ]
     },
     "execution_count": 1,
     "metadata": {},
     "output_type": "execute_result"
    }
   ],
   "source": [
    "# This a simple arithmatic expression to multiply then add integers\n",
    "(3*4)+5"
   ]
  },
  {
   "cell_type": "code",
   "execution_count": 3,
   "id": "466fa23e-1c45-4846-beb2-ba3e5e60fa2a",
   "metadata": {},
   "outputs": [
    {
     "name": "stdout",
     "output_type": "stream",
     "text": [
      "Hours= 3\n"
     ]
    }
   ],
   "source": [
    "# this will convert 200 minutes in minutes\n",
    "min= 200\n",
    "h=min//60\n",
    "print(\"Hours=\",h)"
   ]
  },
  {
   "cell_type": "markdown",
   "id": "6615c9da-ed52-42b5-a37b-3b95d755701f",
   "metadata": {},
   "source": [
    "## Author ##\n",
    "Muhammad ikram"
   ]
  },
  {
   "cell_type": "code",
   "execution_count": null,
   "id": "276f3ba3-1a7d-41ff-84c2-217786b9c93b",
   "metadata": {},
   "outputs": [],
   "source": []
  }
 ],
 "metadata": {
  "kernelspec": {
   "display_name": "Python 3 (ipykernel)",
   "language": "python",
   "name": "python3"
  },
  "language_info": {
   "codemirror_mode": {
    "name": "ipython",
    "version": 3
   },
   "file_extension": ".py",
   "mimetype": "text/x-python",
   "name": "python",
   "nbconvert_exporter": "python",
   "pygments_lexer": "ipython3",
   "version": "3.11.7"
  }
 },
 "nbformat": 4,
 "nbformat_minor": 5
}
